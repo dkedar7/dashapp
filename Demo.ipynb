{
 "cells": [
  {
   "cell_type": "code",
   "execution_count": 1,
   "id": "13ee7855-ed1e-4b58-b814-3a0edbe60729",
   "metadata": {},
   "outputs": [
    {
     "name": "stderr",
     "output_type": "stream",
     "text": [
      "/home/kedardabhadkar/.local/lib/python3.7/site-packages/dash_bootstrap_components/_table.py:5: UserWarning: \n",
      "The dash_html_components package is deprecated. Please replace\n",
      "`import dash_html_components as html` with `from dash import html`\n",
      "  import dash_html_components as html\n"
     ]
    }
   ],
   "source": [
    "from dashapp.App import App"
   ]
  },
  {
   "cell_type": "code",
   "execution_count": 2,
   "id": "bfb39f5e-7ff5-48e6-9698-6bfae5ee1c86",
   "metadata": {},
   "outputs": [],
   "source": [
    "app = App(title='My App')"
   ]
  },
  {
   "cell_type": "code",
   "execution_count": 3,
   "id": "e9f2f20c-d37c-468a-adfb-2be6e92648ed",
   "metadata": {},
   "outputs": [],
   "source": [
    "app.set_layout()"
   ]
  },
  {
   "cell_type": "code",
   "execution_count": 4,
   "id": "d7df86b1-51c1-4f96-b3d2-d6befa8ba966",
   "metadata": {},
   "outputs": [
    {
     "name": "stdout",
     "output_type": "stream",
     "text": [
      " * Serving Flask app \"dashapp.App\" (lazy loading)\n",
      " * Environment: production\n",
      "\u001b[31m   WARNING: This is a development server. Do not use it in a production deployment.\u001b[0m\n",
      "\u001b[2m   Use a production WSGI server instead.\u001b[0m\n",
      " * Debug mode: off\n"
     ]
    },
    {
     "name": "stderr",
     "output_type": "stream",
     "text": [
      " * Running on http://127.0.0.1:8080/ (Press CTRL+C to quit)\n",
      "127.0.0.1 - - [19/Sep/2021 19:04:14] \"GET / HTTP/1.1\" 200 -\n",
      "127.0.0.1 - - [19/Sep/2021 19:04:14] \"GET /_dash-component-suites/dash/deps/polyfill@7.v2_0_0m1632074758.12.1.min.js HTTP/1.1\" 200 -\n",
      "127.0.0.1 - - [19/Sep/2021 19:04:15] \"GET /_dash-component-suites/dash/deps/react@16.v2_0_0m1632074758.14.0.min.js HTTP/1.1\" 200 -\n",
      "127.0.0.1 - - [19/Sep/2021 19:04:15] \"GET /_dash-component-suites/dash/deps/react-dom@16.v2_0_0m1632074758.14.0.min.js HTTP/1.1\" 200 -\n",
      "127.0.0.1 - - [19/Sep/2021 19:04:15] \"GET /_dash-component-suites/dash/deps/prop-types@15.v2_0_0m1632074758.7.2.min.js HTTP/1.1\" 200 -\n",
      "127.0.0.1 - - [19/Sep/2021 19:04:15] \"GET /_dash-component-suites/dash_bootstrap_components/_components/dash_bootstrap_components.v0_13_0m1632074761.min.js HTTP/1.1\" 200 -\n",
      "127.0.0.1 - - [19/Sep/2021 19:04:15] \"GET /_dash-component-suites/dash/dash-renderer/build/dash_renderer.v2_0_0m1632074758.min.js HTTP/1.1\" 200 -\n",
      "127.0.0.1 - - [19/Sep/2021 19:04:15] \"GET /_dash-component-suites/dash/dcc/dash_core_components.v2_0_0m1632074758.js HTTP/1.1\" 200 -\n",
      "127.0.0.1 - - [19/Sep/2021 19:04:17] \"GET /_dash-component-suites/dash/dcc/dash_core_components-shared.v2_0_0m1632074758.js HTTP/1.1\" 200 -\n",
      "127.0.0.1 - - [19/Sep/2021 19:04:17] \"GET /_dash-component-suites/dash/dash_table/bundle.v5_0_0m1632074758.js HTTP/1.1\" 200 -\n",
      "127.0.0.1 - - [19/Sep/2021 19:04:17] \"GET /_dash-component-suites/dash/html/dash_html_components.v2_0_0m1632074758.min.js HTTP/1.1\" 200 -\n",
      "127.0.0.1 - - [19/Sep/2021 19:04:17] \"GET /_dash-layout HTTP/1.1\" 200 -\n",
      "127.0.0.1 - - [19/Sep/2021 19:04:17] \"GET /_dash-dependencies HTTP/1.1\" 200 -\n",
      "127.0.0.1 - - [19/Sep/2021 19:04:18] \"GET /_dash-component-suites/dash/dcc/async-upload.js HTTP/1.1\" 200 -\n",
      "127.0.0.1 - - [19/Sep/2021 19:04:18] \"GET /_favicon.ico?v=2.0.0 HTTP/1.1\" 200 -\n"
     ]
    }
   ],
   "source": [
    "app.run()"
   ]
  },
  {
   "cell_type": "code",
   "execution_count": null,
   "id": "4f206c5a-2332-4bb2-9afb-5fa442084622",
   "metadata": {},
   "outputs": [],
   "source": []
  }
 ],
 "metadata": {
  "kernelspec": {
   "display_name": "Python 3 (ipykernel)",
   "language": "python",
   "name": "python3"
  },
  "language_info": {
   "codemirror_mode": {
    "name": "ipython",
    "version": 3
   },
   "file_extension": ".py",
   "mimetype": "text/x-python",
   "name": "python",
   "nbconvert_exporter": "python",
   "pygments_lexer": "ipython3",
   "version": "3.7.10"
  }
 },
 "nbformat": 4,
 "nbformat_minor": 5
}
