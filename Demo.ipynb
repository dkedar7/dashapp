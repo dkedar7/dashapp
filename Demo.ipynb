{
 "cells": [
  {
   "cell_type": "code",
   "execution_count": 1,
   "id": "13ee7855-ed1e-4b58-b814-3a0edbe60729",
   "metadata": {},
   "outputs": [],
   "source": [
    "from dashapp.App import App\n",
    "from dashapp.Components import *\n",
    "\n",
    "from dash import dcc\n",
    "import dash_bootstrap_components as dbc\n",
    "from dash import html\n",
    "import plotly.graph_objs as go"
   ]
  },
  {
   "cell_type": "code",
   "execution_count": 2,
   "id": "940bceed-b64e-4c8c-a122-431df61e220d",
   "metadata": {},
   "outputs": [],
   "source": [
    "## TODO\n",
    "# Support multiple outputs - Done\n",
    "# Label each label by its output name - Semi-done.\n",
    "# Support image outputs - Done\n",
    "# Support charts as outputs - Done\n",
    "# Transfer this to dash-avatar"
   ]
  },
  {
   "cell_type": "code",
   "execution_count": 3,
   "id": "5b73b6a8-686e-4b5c-80f6-c8e250ae817f",
   "metadata": {},
   "outputs": [],
   "source": [
    "# fig = go.Figure()\n",
    "# fig.add_trace(go.Scatter(x=[1, 2, 3], y=[4, 1, 2]))"
   ]
  },
  {
   "cell_type": "code",
   "execution_count": 4,
   "id": "d5b60bad-4e4b-4ba2-8705-0bb8438f50f0",
   "metadata": {},
   "outputs": [],
   "source": [
    "def process(value, text_one, text_two, image):\n",
    "    return text_one\n",
    "\n",
    "def process_image(image):\n",
    "    fig = go.Figure()\n",
    "    fig.add_trace(go.Scatter(x=[1, 2, 3], y=[4, 1, 2]))\n",
    "    return fig, image"
   ]
  },
  {
   "cell_type": "code",
   "execution_count": 5,
   "id": "0a1e3476-c901-40cb-891a-fd0fc69bc3cd",
   "metadata": {},
   "outputs": [],
   "source": [
    "inputs1 = SliderInput(\n",
    "        id='my-slider',\n",
    "        min=0,\n",
    "        max=20,\n",
    "        step=0.5,\n",
    "        value=10,\n",
    "        tooltip={\"placement\": \"top\", \"always_visible\": True})\n",
    "\n",
    "inputs2 = TextInput(type=\"text\", placeholder=\"example@internet.com\")\n",
    "inputs3 = TextInput(type=\"email\", placeholder=\"example@internet.com\")\n",
    "inputs4 = UploadInput()"
   ]
  },
  {
   "cell_type": "code",
   "execution_count": null,
   "id": "4979b212-7db0-419f-84a3-bbb838bd76eb",
   "metadata": {},
   "outputs": [],
   "source": []
  },
  {
   "cell_type": "code",
   "execution_count": 6,
   "id": "36bb3f95-ef9f-40f9-938c-ea65fa0e69ec",
   "metadata": {},
   "outputs": [],
   "source": [
    "# output1 = TextOutput(label_='Result 1')\n",
    "# output2 = TextOutput(label_='Result of the answer')\n",
    "ioutput = GraphOutput(label_='Graph')\n",
    "ioutput2 = ImageOutput(label_='Processed image')\n",
    "\n",
    "# ioutput = dcc.Graph()"
   ]
  },
  {
   "cell_type": "code",
   "execution_count": 7,
   "id": "1fbe7bee-726e-41b7-89ba-d0bd0ce06c50",
   "metadata": {},
   "outputs": [],
   "source": [
    "# ioutput.attributable_property = 'figure'\n",
    "# ioutput.label_ = 'Figure'"
   ]
  },
  {
   "cell_type": "code",
   "execution_count": 8,
   "id": "c5022731-6f81-475b-ab7e-91d1c18f0d3a",
   "metadata": {},
   "outputs": [],
   "source": [
    "# ioutput"
   ]
  },
  {
   "cell_type": "code",
   "execution_count": 9,
   "id": "bfb39f5e-7ff5-48e6-9698-6bfae5ee1c86",
   "metadata": {},
   "outputs": [],
   "source": [
    "app = App(inputs=[inputs4],\n",
    "          outputs=[ioutput, ioutput2],\n",
    "          title='Neural Style Transfer', \n",
    "          callback_fn=process_image,\n",
    "         theme='KD')\n",
    "# app.run()"
   ]
  },
  {
   "cell_type": "code",
   "execution_count": null,
   "id": "09640685-a32d-4948-9172-207e4b52de98",
   "metadata": {},
   "outputs": [
    {
     "name": "stdout",
     "output_type": "stream",
     "text": [
      " * Serving Flask app \"dashapp.App\" (lazy loading)\n",
      " * Environment: production\n",
      "\u001b[31m   WARNING: This is a development server. Do not use it in a production deployment.\u001b[0m\n",
      "\u001b[2m   Use a production WSGI server instead.\u001b[0m\n",
      " * Debug mode: off\n"
     ]
    },
    {
     "name": "stderr",
     "output_type": "stream",
     "text": [
      " * Running on http://127.0.0.1:8080/ (Press CTRL+C to quit)\n",
      "127.0.0.1 - - [30/Jan/2022 13:23:48] \"GET / HTTP/1.1\" 200 -\n",
      "127.0.0.1 - - [30/Jan/2022 13:23:48] \"GET /_dash-dependencies HTTP/1.1\" 200 -\n",
      "127.0.0.1 - - [30/Jan/2022 13:23:48] \"GET /_dash-layout HTTP/1.1\" 200 -\n",
      "127.0.0.1 - - [30/Jan/2022 13:23:48] \"GET /_favicon.ico?v=2.1.0 HTTP/1.1\" 200 -\n",
      "127.0.0.1 - - [30/Jan/2022 13:23:48] \"GET /_dash-component-suites/dash/dcc/async-upload.js HTTP/1.1\" 200 -\n",
      "127.0.0.1 - - [30/Jan/2022 13:23:48] \"GET /_dash-component-suites/dash/dcc/async-graph.js HTTP/1.1\" 200 -\n",
      "127.0.0.1 - - [30/Jan/2022 13:23:48] \"GET /_dash-component-suites/dash/dcc/async-plotlyjs.js HTTP/1.1\" 200 -\n",
      "127.0.0.1 - - [30/Jan/2022 13:23:48] \"POST /_dash-update-component HTTP/1.1\" 200 -\n",
      "127.0.0.1 - - [30/Jan/2022 13:23:52] \"POST /_dash-update-component HTTP/1.1\" 200 -\n",
      "127.0.0.1 - - [30/Jan/2022 13:23:56] \"POST /_dash-update-component HTTP/1.1\" 200 -\n",
      "127.0.0.1 - - [30/Jan/2022 13:24:03] \"POST /_dash-update-component HTTP/1.1\" 200 -\n",
      "127.0.0.1 - - [30/Jan/2022 13:24:05] \"POST /_dash-update-component HTTP/1.1\" 200 -\n",
      "127.0.0.1 - - [30/Jan/2022 13:24:08] \"POST /_dash-update-component HTTP/1.1\" 200 -\n"
     ]
    }
   ],
   "source": [
    "app.run()"
   ]
  },
  {
   "cell_type": "code",
   "execution_count": null,
   "id": "637855d8-b191-4570-86c9-210f39dae5f8",
   "metadata": {},
   "outputs": [],
   "source": [
    "app.app.layout"
   ]
  },
  {
   "cell_type": "code",
   "execution_count": null,
   "id": "4e91a3c0-7374-46ab-8e7e-41cc7adb1a1e",
   "metadata": {},
   "outputs": [],
   "source": [
    "# import dash\n",
    "# from dash import dcc\n",
    "# from dash import html\n",
    "# import plotly.graph_objects as go\n",
    "\n",
    "# fig = go.Figure(\n",
    "#     data=[go.Bar(y=[2, 1, 3])],\n",
    "#     layout_title_text=\"Native Plotly rendering in Dash\"\n",
    "# )\n",
    "\n",
    "# app = dash.Dash(__name__)\n",
    "\n",
    "# app.layout = html.Div([\n",
    "#     dcc.Graph(id=\"graph\", figure=fig),\n",
    "# ])\n",
    "\n",
    "# app.server.run(debug=True)"
   ]
  },
  {
   "cell_type": "code",
   "execution_count": null,
   "id": "5d67ad96-e1c9-46ac-95e3-c1fcf5397e4a",
   "metadata": {},
   "outputs": [],
   "source": [
    "list(t)"
   ]
  },
  {
   "cell_type": "code",
   "execution_count": null,
   "id": "4921d8f3-f1e3-4424-8358-6d2fad863473",
   "metadata": {},
   "outputs": [],
   "source": [
    "def b(p, q, r):\n",
    "    return p, q, r"
   ]
  },
  {
   "cell_type": "code",
   "execution_count": null,
   "id": "d453ac98-d277-483c-80a1-511a41bf5635",
   "metadata": {},
   "outputs": [],
   "source": [
    "def a(*args):\n",
    "    return b(*args[0][:-2])"
   ]
  },
  {
   "cell_type": "code",
   "execution_count": null,
   "id": "446443b7-2ae4-4582-aa29-4e15f820ea93",
   "metadata": {},
   "outputs": [],
   "source": [
    "a([1,2,3, 4, 5])"
   ]
  },
  {
   "cell_type": "code",
   "execution_count": null,
   "id": "24486c30-d18c-4eaa-b615-8aaaa4a4740b",
   "metadata": {},
   "outputs": [],
   "source": [
    "import inspect\n",
    "signature = inspect.signature(process)\n",
    "parameters = signature.parameters\n",
    "parameter_list = list(parameters)"
   ]
  },
  {
   "cell_type": "code",
   "execution_count": null,
   "id": "b508db12-0e5f-4241-bab6-aa5448b17f4d",
   "metadata": {},
   "outputs": [],
   "source": [
    "signature.re"
   ]
  }
 ],
 "metadata": {
  "kernelspec": {
   "display_name": "Python 3 (ipykernel)",
   "language": "python",
   "name": "python3"
  },
  "language_info": {
   "codemirror_mode": {
    "name": "ipython",
    "version": 3
   },
   "file_extension": ".py",
   "mimetype": "text/x-python",
   "name": "python",
   "nbconvert_exporter": "python",
   "pygments_lexer": "ipython3",
   "version": "3.9.7"
  }
 },
 "nbformat": 4,
 "nbformat_minor": 5
}
